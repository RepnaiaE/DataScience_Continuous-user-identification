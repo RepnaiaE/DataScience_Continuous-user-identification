{
  "cells": [
    {
      "cell_type": "markdown",
      "metadata": {
        "id": "view-in-github",
        "colab_type": "text"
      },
      "source": [
        "<a href=\"https://colab.research.google.com/github/RepnaiaE/Portfolio_DataLearning/blob/main/Measuring_the_speed_of_sensorimotor_reaction_using_EMG.ipynb\" target=\"_parent\"><img src=\"https://colab.research.google.com/assets/colab-badge.svg\" alt=\"Open In Colab\"/></a>"
      ]
    },
    {
      "cell_type": "markdown",
      "metadata": {
        "id": "MCTbYMh5C1Xo"
      },
      "source": [
        "## Измерение скорости сенсомоторной реакции с помощью ЭМГ/Measuring the speed of sensorimotor reaction using EMG"
      ]
    },
    {
      "cell_type": "code",
      "execution_count": null,
      "metadata": {
        "id": "h772383bC1Xr"
      },
      "outputs": [],
      "source": [
        "import pandas as pd\n",
        "import numpy as np"
      ]
    },
    {
      "cell_type": "markdown",
      "metadata": {
        "id": "VmpCypFQC1Xw"
      },
      "source": [
        "## Объединенные графики ЭМГ и сигналов \"Кнопка\" с измерениями зарежки при рефлекторном сокращении бицепса/Combined graphs of EMG and \"Button\" signals with measurements of retraction during reflex contraction of the biceps"
      ]
    },
    {
      "cell_type": "markdown",
      "metadata": {
        "id": "ZEUZWy8SC1Xx"
      },
      "source": [
        "![emg_full](https://drive.google.com/file/d/1JctdKY4is_5RGCZUMET3sNWzhD2O2N5x/view?usp=sharing)"
      ]
    },
    {
      "cell_type": "markdown",
      "metadata": {
        "id": "EfUqEJT1C1Xy"
      },
      "source": [
        "![button_full](button_full.jpg)"
      ]
    },
    {
      "cell_type": "markdown",
      "metadata": {
        "id": "8Cx3HTdAC1Xz"
      },
      "source": [
        "## Объединенные графики ЭМГ и сигналов \"Кнопка\" с измерениями зарежки при простой сенсомоторной реакции испытуемого"
      ]
    },
    {
      "cell_type": "markdown",
      "metadata": {
        "id": "Yrorqk8_C1Ye"
      },
      "source": [
        "![emg_full_part_2](emg_full_part_2.jpg)"
      ]
    },
    {
      "cell_type": "markdown",
      "metadata": {
        "id": "-NwcRkz9C1Yf"
      },
      "source": [
        "![button_full_part_2](button_full_part_2.jpg)"
      ]
    },
    {
      "cell_type": "code",
      "execution_count": null,
      "metadata": {
        "id": "VzRUjwaYC1Yg"
      },
      "outputs": [],
      "source": [
        "data_reflex = pd.read_csv('table_reflex.csv', encoding='utf-8', delimiter=';', index_col=0)"
      ]
    },
    {
      "cell_type": "code",
      "execution_count": null,
      "metadata": {
        "id": "cLsJOgGoC1Yh"
      },
      "outputs": [],
      "source": [
        "data_reaction = pd.read_csv('table_reaction.csv', encoding='utf-8', delimiter=';', index_col=0)"
      ]
    },
    {
      "cell_type": "markdown",
      "metadata": {
        "id": "3VdNboT4C1Yj"
      },
      "source": [
        "#### Таблица измерений при рефлекторном сокращении бицепса/Table of measurements for reflex contraction of the biceps\n",
        "\n",
        "---\n",
        "\n"
      ]
    },
    {
      "cell_type": "code",
      "execution_count": null,
      "metadata": {
        "id": "HYoUfNOCC1Yk",
        "outputId": "2250eb76-f672-4493-8a20-ce0bfe1d4894"
      },
      "outputs": [
        {
          "data": {
            "text/html": [
              "<div>\n",
              "<style scoped>\n",
              "    .dataframe tbody tr th:only-of-type {\n",
              "        vertical-align: middle;\n",
              "    }\n",
              "\n",
              "    .dataframe tbody tr th {\n",
              "        vertical-align: top;\n",
              "    }\n",
              "\n",
              "    .dataframe thead th {\n",
              "        text-align: right;\n",
              "    }\n",
              "</style>\n",
              "<table border=\"1\" class=\"dataframe\">\n",
              "  <thead>\n",
              "    <tr style=\"text-align: right;\">\n",
              "      <th></th>\n",
              "      <th>Нажатие на кнопку, с</th>\n",
              "      <th>Сокращение бицепса, с</th>\n",
              "      <th>Латентный период, с</th>\n",
              "    </tr>\n",
              "    <tr>\n",
              "      <th>Номер измерения</th>\n",
              "      <th></th>\n",
              "      <th></th>\n",
              "      <th></th>\n",
              "    </tr>\n",
              "  </thead>\n",
              "  <tbody>\n",
              "    <tr>\n",
              "      <th>1</th>\n",
              "      <td>4.0801</td>\n",
              "      <td>4.3648</td>\n",
              "      <td>0.2847</td>\n",
              "    </tr>\n",
              "    <tr>\n",
              "      <th>2</th>\n",
              "      <td>7.1941</td>\n",
              "      <td>7.5140</td>\n",
              "      <td>0.3199</td>\n",
              "    </tr>\n",
              "    <tr>\n",
              "      <th>3</th>\n",
              "      <td>9.5444</td>\n",
              "      <td>9.8999</td>\n",
              "      <td>0.3555</td>\n",
              "    </tr>\n",
              "    <tr>\n",
              "      <th>4</th>\n",
              "      <td>14.4590</td>\n",
              "      <td>14.6650</td>\n",
              "      <td>0.2060</td>\n",
              "    </tr>\n",
              "    <tr>\n",
              "      <th>5</th>\n",
              "      <td>16.6120</td>\n",
              "      <td>16.8200</td>\n",
              "      <td>0.2080</td>\n",
              "    </tr>\n",
              "  </tbody>\n",
              "</table>\n",
              "</div>"
            ],
            "text/plain": [
              "                 Нажатие на кнопку, с  Сокращение бицепса, с  \\\n",
              "Номер измерения                                                \n",
              "1                              4.0801                 4.3648   \n",
              "2                              7.1941                 7.5140   \n",
              "3                              9.5444                 9.8999   \n",
              "4                             14.4590                14.6650   \n",
              "5                             16.6120                16.8200   \n",
              "\n",
              "                 Латентный период, с  \n",
              "Номер измерения                       \n",
              "1                             0.2847  \n",
              "2                             0.3199  \n",
              "3                             0.3555  \n",
              "4                             0.2060  \n",
              "5                             0.2080  "
            ]
          },
          "execution_count": 25,
          "metadata": {},
          "output_type": "execute_result"
        }
      ],
      "source": [
        "perdiod_reflex = np.abs(data_reflex.iloc[:, 1] - data_reflex.iloc[:, 0])\n",
        "data_reflex.iloc[:,2] = perdiod_reflex\n",
        "\n",
        "data_reflex"
      ]
    },
    {
      "cell_type": "markdown",
      "metadata": {
        "id": "4jlbJHN8C1Yn"
      },
      "source": [
        "#### Таблица измерений при простой сенсомоторной реакции испытуемого/Table of measurements for a simple sensorimotor reaction of the subject"
      ]
    },
    {
      "cell_type": "code",
      "execution_count": null,
      "metadata": {
        "id": "yAF1fU4oC1Yo",
        "outputId": "cda11da5-d680-4624-8092-c21a0fac6297"
      },
      "outputs": [
        {
          "data": {
            "text/html": [
              "<div>\n",
              "<style scoped>\n",
              "    .dataframe tbody tr th:only-of-type {\n",
              "        vertical-align: middle;\n",
              "    }\n",
              "\n",
              "    .dataframe tbody tr th {\n",
              "        vertical-align: top;\n",
              "    }\n",
              "\n",
              "    .dataframe thead th {\n",
              "        text-align: right;\n",
              "    }\n",
              "</style>\n",
              "<table border=\"1\" class=\"dataframe\">\n",
              "  <thead>\n",
              "    <tr style=\"text-align: right;\">\n",
              "      <th></th>\n",
              "      <th>Нажатие на кнопку, с</th>\n",
              "      <th>Сокращение бицепса, с</th>\n",
              "      <th>Латентный период, с</th>\n",
              "    </tr>\n",
              "    <tr>\n",
              "      <th>Номер измерения</th>\n",
              "      <th></th>\n",
              "      <th></th>\n",
              "      <th></th>\n",
              "    </tr>\n",
              "  </thead>\n",
              "  <tbody>\n",
              "    <tr>\n",
              "      <th>1</th>\n",
              "      <td>2.9034</td>\n",
              "      <td>3.3466</td>\n",
              "      <td>0.4432</td>\n",
              "    </tr>\n",
              "    <tr>\n",
              "      <th>2</th>\n",
              "      <td>6.1786</td>\n",
              "      <td>6.5263</td>\n",
              "      <td>0.3477</td>\n",
              "    </tr>\n",
              "    <tr>\n",
              "      <th>3</th>\n",
              "      <td>8.9812</td>\n",
              "      <td>9.3455</td>\n",
              "      <td>0.3643</td>\n",
              "    </tr>\n",
              "    <tr>\n",
              "      <th>4</th>\n",
              "      <td>10.1540</td>\n",
              "      <td>10.5520</td>\n",
              "      <td>0.3980</td>\n",
              "    </tr>\n",
              "    <tr>\n",
              "      <th>5</th>\n",
              "      <td>12.1340</td>\n",
              "      <td>12.5330</td>\n",
              "      <td>0.3990</td>\n",
              "    </tr>\n",
              "  </tbody>\n",
              "</table>\n",
              "</div>"
            ],
            "text/plain": [
              "                 Нажатие на кнопку, с  Сокращение бицепса, с  \\\n",
              "Номер измерения                                                \n",
              "1                              2.9034                 3.3466   \n",
              "2                              6.1786                 6.5263   \n",
              "3                              8.9812                 9.3455   \n",
              "4                             10.1540                10.5520   \n",
              "5                             12.1340                12.5330   \n",
              "\n",
              "                 Латентный период, с  \n",
              "Номер измерения                       \n",
              "1                             0.4432  \n",
              "2                             0.3477  \n",
              "3                             0.3643  \n",
              "4                             0.3980  \n",
              "5                             0.3990  "
            ]
          },
          "execution_count": 26,
          "metadata": {},
          "output_type": "execute_result"
        }
      ],
      "source": [
        "perdiod_reaction = np.abs(data_reaction.iloc[:, 1] - data_reaction.iloc[:, 0])\n",
        "data_reaction.iloc[:,2] = perdiod_reaction\n",
        "\n",
        "data_reaction"
      ]
    },
    {
      "cell_type": "markdown",
      "metadata": {
        "id": "Ts2xHZfNC1Yr"
      },
      "source": [
        "### Расчет средних значений и погрешности/Calculation of average values ​​and errors"
      ]
    },
    {
      "cell_type": "code",
      "execution_count": null,
      "metadata": {
        "id": "nqPBCbZ-C1Ys",
        "outputId": "3dc4a1dc-b59a-4ea3-c576-03459f5c655e"
      },
      "outputs": [
        {
          "name": "stdout",
          "output_type": "stream",
          "text": [
            "Среднее значение латентного периода рефлекторного сокращения бицепса \t\t= 0.27482 c\n",
            "Среднее значение латентного периода простой сенсомоторной реакции испытуемого \t= 0.39044 c\n"
          ]
        }
      ],
      "source": [
        "mean_reflex   = data_reflex.iloc[:, 2].mean()\n",
        "mean_reaction = data_reaction.iloc[:, 2].mean()\n",
        "\n",
        "print(f\"Среднее значение латентного периода рефлекторного сокращения бицепса \\t\\t= {mean_reflex:.5} c\")\n",
        "print(f\"Среднее значение латентного периода простой сенсомоторной реакции испытуемого \\t= {mean_reaction:.5} c\")"
      ]
    },
    {
      "cell_type": "code",
      "execution_count": null,
      "metadata": {
        "id": "ABocnLlWC1Yu",
        "outputId": "7503f771-965e-42a5-f518-5adfde777ac8"
      },
      "outputs": [
        {
          "name": "stdout",
          "output_type": "stream",
          "text": [
            "Среднеквадратичное отклонение латентного периода рефлекторного сокращения бицепса \t= 0.029867 c\n",
            "Среднеквадратичное отклонение латентного простой сенсомоторной реакции испытуемого \t= 0.016468 c\n"
          ]
        }
      ],
      "source": [
        "n   = 5\n",
        "std_reflex   = np.sqrt( ((data_reflex.iloc[:, 2] - mean_reflex)**2).sum() / (n*(n-1)) )\n",
        "std_reaction = np.sqrt( ((data_reaction.iloc[:, 2] - mean_reaction)**2).sum() / (n*(n-1)) )\n",
        "\n",
        "print(f\"Среднеквадратичное отклонение латентного периода рефлекторного сокращения бицепса \\t= {std_reflex:.5} c\")\n",
        "print(f\"Среднеквадратичное отклонение латентного простой сенсомоторной реакции испытуемого \\t= {std_reaction:.5} c\")"
      ]
    },
    {
      "cell_type": "code",
      "execution_count": null,
      "metadata": {
        "id": "UuKT1zpIC1Yy"
      },
      "outputs": [],
      "source": [
        "# коэффициент Стьюдента при alpha = 0.95 и n = 5\n",
        "tan = 2.78"
      ]
    },
    {
      "cell_type": "code",
      "execution_count": null,
      "metadata": {
        "id": "NtzGE5KYC1Yz",
        "outputId": "f9e4e879-20bf-4f41-abb9-8e8d8f166428"
      },
      "outputs": [
        {
          "name": "stdout",
          "output_type": "stream",
          "text": [
            "delta_reflex=0.083029 c\n",
            "delta_reaction=0.045782 c\n"
          ]
        }
      ],
      "source": [
        "# доверительный интервал случайной погрешности\n",
        "delta_reflex   = tan * std_reflex\n",
        "delta_reaction = tan * std_reaction\n",
        "\n",
        "print(f\"{delta_reflex=:.5} c\")\n",
        "print(f\"{delta_reaction=:.5} c\")"
      ]
    },
    {
      "cell_type": "code",
      "execution_count": null,
      "metadata": {
        "id": "h60YAxYcC1Y1",
        "outputId": "15c4fdbf-1006-4227-c652-b05e996febdf"
      },
      "outputs": [
        {
          "name": "stdout",
          "output_type": "stream",
          "text": [
            "eps_reflex=30.212 %\n",
            "eps_reaction=11.726 %\n"
          ]
        }
      ],
      "source": [
        "# относительная погрешность измерения\n",
        "eps_reflex   = (delta_reflex   / mean_reflex)   * 100\n",
        "eps_reaction = (delta_reaction / mean_reaction) * 100\n",
        "\n",
        "print(f\"{eps_reflex=:.5} %\")\n",
        "print(f\"{eps_reaction=:.5} %\")"
      ]
    },
    {
      "cell_type": "code",
      "execution_count": null,
      "metadata": {
        "id": "pJ1woMOhC1Y4",
        "outputId": "623da604-a3bb-43ea-901d-4f08b42effb8"
      },
      "outputs": [
        {
          "name": "stdout",
          "output_type": "stream",
          "text": [
            "Среднее значение латентного периода рефлекторного сокращения бицепса \t\t= 0.27482 ± 0.083029 c\n",
            "Среднее значение латентного периода простой сенсомоторной реакции испытуемого \t= 0.39044 ± 0.045782 c\n"
          ]
        }
      ],
      "source": [
        "print(f\"Среднее значение латентного периода рефлекторного сокращения бицепса \\t\\t= {mean_reflex:.5} ± {delta_reflex:.5} c\")\n",
        "print(f\"Среднее значение латентного периода простой сенсомоторной реакции испытуемого \\t= {mean_reaction:.5} ± {delta_reaction:.5} c\")"
      ]
    }
  ],
  "metadata": {
    "kernelspec": {
      "display_name": "Python 3.10.0 64-bit",
      "language": "python",
      "name": "python3"
    },
    "language_info": {
      "codemirror_mode": {
        "name": "ipython",
        "version": 3
      },
      "file_extension": ".py",
      "mimetype": "text/x-python",
      "name": "python",
      "nbconvert_exporter": "python",
      "pygments_lexer": "ipython3",
      "version": "3.10.0"
    },
    "orig_nbformat": 4,
    "vscode": {
      "interpreter": {
        "hash": "26de051ba29f2982a8de78e945f0abaf191376122a1563185a90213a26c5da77"
      }
    },
    "colab": {
      "provenance": [],
      "include_colab_link": true
    }
  },
  "nbformat": 4,
  "nbformat_minor": 0
}