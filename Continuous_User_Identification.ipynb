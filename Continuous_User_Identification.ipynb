{
  "cells": [
    {
      "cell_type": "markdown",
      "metadata": {
        "id": "view-in-github",
        "colab_type": "text"
      },
      "source": [
        "<a href=\"https://colab.research.google.com/github/RepnaiaE/Portfolio_DataLearning/blob/main/Continuous_User_Identification.ipynb\" target=\"_parent\"><img src=\"https://colab.research.google.com/assets/colab-badge.svg\" alt=\"Open In Colab\"/></a>"
      ]
    },
    {
      "cell_type": "markdown",
      "id": "a56c1b3b-d643-41d1-803f-415e114f2060",
      "metadata": {
        "id": "a56c1b3b-d643-41d1-803f-415e114f2060"
      },
      "source": [
        "## Определение средней скорости распространения пульсовой волны/Determination of the average speed of propagation of a pulse wave"
      ]
    },
    {
      "cell_type": "code",
      "execution_count": null,
      "id": "19c0e08a-77dd-48b2-b54a-f94b8c655cd1",
      "metadata": {
        "id": "19c0e08a-77dd-48b2-b54a-f94b8c655cd1"
      },
      "outputs": [],
      "source": [
        "import pandas as pd\n",
        "import numpy as np"
      ]
    },
    {
      "cell_type": "markdown",
      "id": "843a8683-3b69-4bf9-a22c-67cacec88814",
      "metadata": {
        "id": "843a8683-3b69-4bf9-a22c-67cacec88814"
      },
      "source": [
        "## Объедененые графики ЭКГ с измерениями Т - зубцов/Combined ECG plots with T-wave measurements\n",
        "\n"
      ]
    },
    {
      "cell_type": "markdown",
      "id": "bcb3b35f-9e51-4e2f-b0a1-6f3a14372505",
      "metadata": {
        "id": "bcb3b35f-9e51-4e2f-b0a1-6f3a14372505"
      },
      "source": [
        "![объедененое.jpg](объедененое.jpg)"
      ]
    },
    {
      "cell_type": "markdown",
      "id": "657db153-2b15-41be-ab97-4c398ffec8ce",
      "metadata": {
        "id": "657db153-2b15-41be-ab97-4c398ffec8ce"
      },
      "source": [
        "## Объедененые графики пиков ФПГ/Combined PPG Peak Plots"
      ]
    },
    {
      "cell_type": "markdown",
      "id": "9630474e-a17b-41ba-84e2-9825a332483f",
      "metadata": {
        "id": "9630474e-a17b-41ba-84e2-9825a332483f"
      },
      "source": [
        "![объедененое пики ФПК.jpg](%D0%BE%D0%B1%D1%8A%D0%B5%D0%B4%D0%B5%D0%BD%D0%B5%D0%BD%D0%BE%D0%B5%20%D0%BF%D0%B8%D0%BA%D0%B8%20%D0%A4%D0%9F%D0%9A.jpg)"
      ]
    },
    {
      "cell_type": "code",
      "execution_count": null,
      "id": "e3d61c33-7658-48dc-9f64-5465bf98b89f",
      "metadata": {
        "id": "e3d61c33-7658-48dc-9f64-5465bf98b89f"
      },
      "outputs": [],
      "source": [
        "students_performance = pd.read_csv('Table.csv', encoding='utf-8', delimiter=\";\")"
      ]
    },
    {
      "cell_type": "code",
      "execution_count": null,
      "id": "a7221aca-d4c5-43d4-b4fe-d541f141f2b1",
      "metadata": {
        "id": "a7221aca-d4c5-43d4-b4fe-d541f141f2b1",
        "outputId": "9ae0b785-f891-4a40-90cd-db2727ee7eca"
      },
      "outputs": [
        {
          "data": {
            "text/html": [
              "<div>\n",
              "<style scoped>\n",
              "    .dataframe tbody tr th:only-of-type {\n",
              "        vertical-align: middle;\n",
              "    }\n",
              "\n",
              "    .dataframe tbody tr th {\n",
              "        vertical-align: top;\n",
              "    }\n",
              "\n",
              "    .dataframe thead th {\n",
              "        text-align: right;\n",
              "    }\n",
              "</style>\n",
              "<table border=\"1\" class=\"dataframe\">\n",
              "  <thead>\n",
              "    <tr style=\"text-align: right;\">\n",
              "      <th></th>\n",
              "      <th>Номер цикла</th>\n",
              "      <th>1_Измерение</th>\n",
              "      <th>2_Измерение</th>\n",
              "      <th>3_Измерение</th>\n",
              "      <th>4_Измерение</th>\n",
              "      <th>5_Измерение</th>\n",
              "    </tr>\n",
              "  </thead>\n",
              "  <tbody>\n",
              "    <tr>\n",
              "      <th>0</th>\n",
              "      <td>Конец Т зубца, с</td>\n",
              "      <td>2.600</td>\n",
              "      <td>3.393</td>\n",
              "      <td>4.138</td>\n",
              "      <td>4.896</td>\n",
              "      <td>5.657</td>\n",
              "    </tr>\n",
              "    <tr>\n",
              "      <th>1</th>\n",
              "      <td>Максимум ФПГ, с</td>\n",
              "      <td>2.6747</td>\n",
              "      <td>3.4616</td>\n",
              "      <td>4.2169</td>\n",
              "      <td>4.9623</td>\n",
              "      <td>5.7312</td>\n",
              "    </tr>\n",
              "    <tr>\n",
              "      <th>2</th>\n",
              "      <td>Запаздывание Т, с</td>\n",
              "      <td>-</td>\n",
              "      <td>-</td>\n",
              "      <td>-</td>\n",
              "      <td>-</td>\n",
              "      <td>-</td>\n",
              "    </tr>\n",
              "    <tr>\n",
              "      <th>3</th>\n",
              "      <td>Среднее значение запаздывания Тср, с</td>\n",
              "      <td>-</td>\n",
              "      <td>-</td>\n",
              "      <td>-</td>\n",
              "      <td>-</td>\n",
              "      <td>-</td>\n",
              "    </tr>\n",
              "    <tr>\n",
              "      <th>4</th>\n",
              "      <td>Расстояния от сенсора Пульса до верхушки сердц...</td>\n",
              "      <td>-</td>\n",
              "      <td>-</td>\n",
              "      <td>-</td>\n",
              "      <td>-</td>\n",
              "      <td>-</td>\n",
              "    </tr>\n",
              "    <tr>\n",
              "      <th>5</th>\n",
              "      <td>Средняя скорость пульсовой волны V м/c. с</td>\n",
              "      <td>-</td>\n",
              "      <td>-</td>\n",
              "      <td>-</td>\n",
              "      <td>-</td>\n",
              "      <td>-</td>\n",
              "    </tr>\n",
              "  </tbody>\n",
              "</table>\n",
              "</div>"
            ],
            "text/plain": [
              "                                         Номер цикла 1_Измерение 2_Измерение  \\\n",
              "0                                   Конец Т зубца, с       2.600       3.393   \n",
              "1                                    Максимум ФПГ, с      2.6747      3.4616   \n",
              "2                                  Запаздывание Т, с           -           -   \n",
              "3               Среднее значение запаздывания Тср, с           -           -   \n",
              "4  Расстояния от сенсора Пульса до верхушки сердц...           -           -   \n",
              "5          Средняя скорость пульсовой волны V м/c. с           -           -   \n",
              "\n",
              "  3_Измерение 4_Измерение 5_Измерение  \n",
              "0       4.138       4.896       5.657  \n",
              "1      4.2169      4.9623      5.7312  \n",
              "2           -           -           -  \n",
              "3           -           -           -  \n",
              "4           -           -           -  \n",
              "5           -           -           -  "
            ]
          },
          "execution_count": 3,
          "metadata": {},
          "output_type": "execute_result"
        }
      ],
      "source": [
        "students_performance"
      ]
    },
    {
      "cell_type": "code",
      "execution_count": null,
      "id": "eaab4e9e",
      "metadata": {
        "id": "eaab4e9e"
      },
      "outputs": [],
      "source": [
        "n = len(students_performance.columns) - 1"
      ]
    },
    {
      "cell_type": "code",
      "execution_count": null,
      "id": "b01ce64d-3165-4f15-b2b5-87373f47a50f",
      "metadata": {
        "id": "b01ce64d-3165-4f15-b2b5-87373f47a50f"
      },
      "outputs": [],
      "source": [
        "df = students_performance.drop(columns='Номер цикла')\n",
        "df = df.drop(df.index[[2,3,4,5]])"
      ]
    },
    {
      "cell_type": "code",
      "execution_count": null,
      "id": "0506b885-f68f-4ad4-bb10-74cf429ce43d",
      "metadata": {
        "id": "0506b885-f68f-4ad4-bb10-74cf429ce43d",
        "outputId": "5aba479b-7fd0-44a0-af6b-2b73901b2862"
      },
      "outputs": [
        {
          "data": {
            "text/html": [
              "<div>\n",
              "<style scoped>\n",
              "    .dataframe tbody tr th:only-of-type {\n",
              "        vertical-align: middle;\n",
              "    }\n",
              "\n",
              "    .dataframe tbody tr th {\n",
              "        vertical-align: top;\n",
              "    }\n",
              "\n",
              "    .dataframe thead th {\n",
              "        text-align: right;\n",
              "    }\n",
              "</style>\n",
              "<table border=\"1\" class=\"dataframe\">\n",
              "  <thead>\n",
              "    <tr style=\"text-align: right;\">\n",
              "      <th></th>\n",
              "      <th>1_Измерение</th>\n",
              "      <th>2_Измерение</th>\n",
              "      <th>3_Измерение</th>\n",
              "      <th>4_Измерение</th>\n",
              "      <th>5_Измерение</th>\n",
              "    </tr>\n",
              "  </thead>\n",
              "  <tbody>\n",
              "    <tr>\n",
              "      <th>0</th>\n",
              "      <td>2.600</td>\n",
              "      <td>3.393</td>\n",
              "      <td>4.138</td>\n",
              "      <td>4.896</td>\n",
              "      <td>5.657</td>\n",
              "    </tr>\n",
              "    <tr>\n",
              "      <th>1</th>\n",
              "      <td>2.6747</td>\n",
              "      <td>3.4616</td>\n",
              "      <td>4.2169</td>\n",
              "      <td>4.9623</td>\n",
              "      <td>5.7312</td>\n",
              "    </tr>\n",
              "  </tbody>\n",
              "</table>\n",
              "</div>"
            ],
            "text/plain": [
              "  1_Измерение 2_Измерение 3_Измерение 4_Измерение 5_Измерение\n",
              "0       2.600       3.393       4.138       4.896       5.657\n",
              "1      2.6747      3.4616      4.2169      4.9623      5.7312"
            ]
          },
          "execution_count": 5,
          "metadata": {},
          "output_type": "execute_result"
        }
      ],
      "source": [
        "df\n"
      ]
    },
    {
      "cell_type": "code",
      "execution_count": null,
      "id": "162ba079-0fc3-475d-85e3-1a975bea37a8",
      "metadata": {
        "id": "162ba079-0fc3-475d-85e3-1a975bea37a8"
      },
      "outputs": [],
      "source": [
        "result = ['Запаздывание Т, с']\n",
        "\n",
        "for colums in df:\n",
        "    result.append(float(df[colums][1]) - float(df[colums][0]))\n",
        "meanValue = result[1:]\n",
        "meanValue[:] = [np.mean(meanValue) for i in meanValue]\n",
        "meanValue = ['Среднее значение запаздывания Тср, с'] + meanValue\n"
      ]
    },
    {
      "cell_type": "code",
      "execution_count": null,
      "id": "e1bd2d78-90b5-4d43-ac4b-b0d4f7a06f47",
      "metadata": {
        "id": "e1bd2d78-90b5-4d43-ac4b-b0d4f7a06f47"
      },
      "outputs": [],
      "source": [
        "for colums, value in zip(students_performance, result):\n",
        "    students_performance.at[2,colums] = value\n",
        "\n",
        "for colums, value in zip(students_performance, meanValue):\n",
        "    students_performance.at[3,colums] = value\n"
      ]
    },
    {
      "cell_type": "code",
      "execution_count": null,
      "id": "2d550376-a764-41a7-a5a2-c115e544c158",
      "metadata": {
        "id": "2d550376-a764-41a7-a5a2-c115e544c158",
        "outputId": "7db03e94-6659-436d-8a84-284083e2dc8f"
      },
      "outputs": [
        {
          "data": {
            "text/html": [
              "<div>\n",
              "<style scoped>\n",
              "    .dataframe tbody tr th:only-of-type {\n",
              "        vertical-align: middle;\n",
              "    }\n",
              "\n",
              "    .dataframe tbody tr th {\n",
              "        vertical-align: top;\n",
              "    }\n",
              "\n",
              "    .dataframe thead th {\n",
              "        text-align: right;\n",
              "    }\n",
              "</style>\n",
              "<table border=\"1\" class=\"dataframe\">\n",
              "  <thead>\n",
              "    <tr style=\"text-align: right;\">\n",
              "      <th></th>\n",
              "      <th>Номер цикла</th>\n",
              "      <th>1_Измерение</th>\n",
              "      <th>2_Измерение</th>\n",
              "      <th>3_Измерение</th>\n",
              "      <th>4_Измерение</th>\n",
              "      <th>5_Измерение</th>\n",
              "    </tr>\n",
              "  </thead>\n",
              "  <tbody>\n",
              "    <tr>\n",
              "      <th>0</th>\n",
              "      <td>Конец Т зубца, с</td>\n",
              "      <td>2.600</td>\n",
              "      <td>3.393</td>\n",
              "      <td>4.138</td>\n",
              "      <td>4.896</td>\n",
              "      <td>5.657</td>\n",
              "    </tr>\n",
              "    <tr>\n",
              "      <th>1</th>\n",
              "      <td>Максимум ФПГ, с</td>\n",
              "      <td>2.6747</td>\n",
              "      <td>3.4616</td>\n",
              "      <td>4.2169</td>\n",
              "      <td>4.9623</td>\n",
              "      <td>5.7312</td>\n",
              "    </tr>\n",
              "    <tr>\n",
              "      <th>2</th>\n",
              "      <td>Запаздывание Т, с</td>\n",
              "      <td>0.0747</td>\n",
              "      <td>0.0686</td>\n",
              "      <td>0.0789</td>\n",
              "      <td>0.0663</td>\n",
              "      <td>0.0742</td>\n",
              "    </tr>\n",
              "    <tr>\n",
              "      <th>3</th>\n",
              "      <td>Среднее значение запаздывания Тср, с</td>\n",
              "      <td>0.07254</td>\n",
              "      <td>0.07254</td>\n",
              "      <td>0.07254</td>\n",
              "      <td>0.07254</td>\n",
              "      <td>0.07254</td>\n",
              "    </tr>\n",
              "    <tr>\n",
              "      <th>4</th>\n",
              "      <td>Расстояния от сенсора Пульса до верхушки сердц...</td>\n",
              "      <td>-</td>\n",
              "      <td>-</td>\n",
              "      <td>-</td>\n",
              "      <td>-</td>\n",
              "      <td>-</td>\n",
              "    </tr>\n",
              "    <tr>\n",
              "      <th>5</th>\n",
              "      <td>Средняя скорость пульсовой волны V м/c. с</td>\n",
              "      <td>-</td>\n",
              "      <td>-</td>\n",
              "      <td>-</td>\n",
              "      <td>-</td>\n",
              "      <td>-</td>\n",
              "    </tr>\n",
              "  </tbody>\n",
              "</table>\n",
              "</div>"
            ],
            "text/plain": [
              "                                         Номер цикла 1_Измерение 2_Измерение  \\\n",
              "0                                   Конец Т зубца, с       2.600       3.393   \n",
              "1                                    Максимум ФПГ, с      2.6747      3.4616   \n",
              "2                                  Запаздывание Т, с      0.0747      0.0686   \n",
              "3               Среднее значение запаздывания Тср, с     0.07254     0.07254   \n",
              "4  Расстояния от сенсора Пульса до верхушки сердц...           -           -   \n",
              "5          Средняя скорость пульсовой волны V м/c. с           -           -   \n",
              "\n",
              "  3_Измерение 4_Измерение 5_Измерение  \n",
              "0       4.138       4.896       5.657  \n",
              "1      4.2169      4.9623      5.7312  \n",
              "2      0.0789      0.0663      0.0742  \n",
              "3     0.07254     0.07254     0.07254  \n",
              "4           -           -           -  \n",
              "5           -           -           -  "
            ]
          },
          "execution_count": 8,
          "metadata": {},
          "output_type": "execute_result"
        }
      ],
      "source": [
        "students_performance\n",
        "\n"
      ]
    },
    {
      "cell_type": "code",
      "execution_count": null,
      "id": "6a247453-68c0-4113-84bb-88f5d34f9d99",
      "metadata": {
        "id": "6a247453-68c0-4113-84bb-88f5d34f9d99"
      },
      "outputs": [],
      "source": [
        "mean = meanValue[-1]\n",
        "std  = np.sqrt(((students_performance.iloc[2, :][1:] - mean)**2).sum() / (n*(n-1)))"
      ]
    },
    {
      "cell_type": "code",
      "execution_count": null,
      "id": "c7b96d6d",
      "metadata": {
        "id": "c7b96d6d"
      },
      "outputs": [],
      "source": [
        "# коэффициент Стьюдента при alpha = 0.95 и n = 5\n",
        "tan = 2.78"
      ]
    },
    {
      "cell_type": "code",
      "execution_count": null,
      "id": "f0472f99",
      "metadata": {
        "id": "f0472f99",
        "outputId": "01b0d775-63b7-4b0e-f4ef-7169e8fd5eac"
      },
      "outputs": [
        {
          "data": {
            "text/plain": [
              "0.006288332961922425"
            ]
          },
          "execution_count": 65,
          "metadata": {},
          "output_type": "execute_result"
        }
      ],
      "source": [
        "# доверительный интервал случайной погрешности\n",
        "delta_T = tan * std\n",
        "delta_T"
      ]
    },
    {
      "cell_type": "code",
      "execution_count": null,
      "id": "35b3d651",
      "metadata": {
        "id": "35b3d651",
        "outputId": "63e34475-01ed-4661-c20e-1e0ba0f41d39"
      },
      "outputs": [
        {
          "data": {
            "text/plain": [
              "8.668779930965565"
            ]
          },
          "execution_count": 66,
          "metadata": {},
          "output_type": "execute_result"
        }
      ],
      "source": [
        "# относительная погрешность измерения\n",
        "eps_T = (delta_T / mean) * 100\n",
        "eps_T"
      ]
    },
    {
      "cell_type": "code",
      "execution_count": null,
      "id": "874db2fe",
      "metadata": {
        "id": "874db2fe",
        "outputId": "6ec612ee-0c1c-4759-c2e4-5acf35960509"
      },
      "outputs": [
        {
          "name": "stdout",
          "output_type": "stream",
          "text": [
            "Номер измерения 0:  0.0747 ± 0.00629 c\n",
            "Номер измерения 1:  0.0686 ± 0.00629 c\n",
            "Номер измерения 2:  0.0789 ± 0.00629 c\n",
            "Номер измерения 3:  0.0663 ± 0.00629 c\n",
            "Номер измерения 4:  0.0742 ± 0.00629 c\n"
          ]
        }
      ],
      "source": [
        "for i, izm in enumerate(students_performance.iloc[2, :][1:]):\n",
        "    print(f\"Номер измерения {i}:  {np.round(izm, 5)} ± {np.round(delta_T, 5)} c\")"
      ]
    },
    {
      "cell_type": "code",
      "execution_count": null,
      "id": "feef7127",
      "metadata": {
        "id": "feef7127"
      },
      "outputs": [],
      "source": [
        "S_heart = 104 * 1e-2\n",
        "students_performance.iloc[4, 1:] = [S_heart]*n"
      ]
    },
    {
      "cell_type": "code",
      "execution_count": null,
      "id": "b5541126",
      "metadata": {
        "id": "b5541126"
      },
      "outputs": [],
      "source": [
        "V_mean = S_heart / mean"
      ]
    },
    {
      "cell_type": "code",
      "execution_count": null,
      "id": "9d43593e",
      "metadata": {
        "id": "9d43593e",
        "outputId": "bfd0cbbd-4cfc-46d0-ea06-ee39490b6583"
      },
      "outputs": [
        {
          "name": "stdout",
          "output_type": "stream",
          "text": [
            "Среднее значение запаздывания Тср \t\t= 0.07254 ± 0.0062883 c\n",
            "Расстояния от сенсора Пульса до верхушки сердца = 1.04 м\n",
            "Средняя скорость пульсовой волны V \t\t= 14.337 м/c\n"
          ]
        }
      ],
      "source": [
        "print(f\"Среднее значение запаздывания Тср \\t\\t= {mean:.5} ± {delta_T:.5} c\")\n",
        "print(f\"Расстояния от сенсора Пульса до верхушки сердца = {S_heart} м\")\n",
        "print(f\"Средняя скорость пульсовой волны V \\t\\t= {V_mean:.5} м/c\")"
      ]
    },
    {
      "cell_type": "code",
      "execution_count": null,
      "id": "a757ebbe",
      "metadata": {
        "id": "a757ebbe",
        "outputId": "f1fe2a33-c21e-4f13-b943-9ed446f460a9"
      },
      "outputs": [
        {
          "data": {
            "text/html": [
              "<div>\n",
              "<style scoped>\n",
              "    .dataframe tbody tr th:only-of-type {\n",
              "        vertical-align: middle;\n",
              "    }\n",
              "\n",
              "    .dataframe tbody tr th {\n",
              "        vertical-align: top;\n",
              "    }\n",
              "\n",
              "    .dataframe thead th {\n",
              "        text-align: right;\n",
              "    }\n",
              "</style>\n",
              "<table border=\"1\" class=\"dataframe\">\n",
              "  <thead>\n",
              "    <tr style=\"text-align: right;\">\n",
              "      <th></th>\n",
              "      <th>Номер цикла</th>\n",
              "      <th>1_Измерение</th>\n",
              "      <th>2_Измерение</th>\n",
              "      <th>3_Измерение</th>\n",
              "      <th>4_Измерение</th>\n",
              "      <th>5_Измерение</th>\n",
              "    </tr>\n",
              "  </thead>\n",
              "  <tbody>\n",
              "    <tr>\n",
              "      <th>0</th>\n",
              "      <td>Конец Т зубца, с</td>\n",
              "      <td>2.600</td>\n",
              "      <td>3.393</td>\n",
              "      <td>4.138</td>\n",
              "      <td>4.896</td>\n",
              "      <td>5.657</td>\n",
              "    </tr>\n",
              "    <tr>\n",
              "      <th>1</th>\n",
              "      <td>Максимум ФПГ, с</td>\n",
              "      <td>2.6747</td>\n",
              "      <td>3.4616</td>\n",
              "      <td>4.2169</td>\n",
              "      <td>4.9623</td>\n",
              "      <td>5.7312</td>\n",
              "    </tr>\n",
              "    <tr>\n",
              "      <th>2</th>\n",
              "      <td>Запаздывание Т, с</td>\n",
              "      <td>0.0747</td>\n",
              "      <td>0.0686</td>\n",
              "      <td>0.0789</td>\n",
              "      <td>0.0663</td>\n",
              "      <td>0.0742</td>\n",
              "    </tr>\n",
              "    <tr>\n",
              "      <th>3</th>\n",
              "      <td>Среднее значение запаздывания Тср, с</td>\n",
              "      <td>0.07254</td>\n",
              "      <td>0.07254</td>\n",
              "      <td>0.07254</td>\n",
              "      <td>0.07254</td>\n",
              "      <td>0.07254</td>\n",
              "    </tr>\n",
              "    <tr>\n",
              "      <th>4</th>\n",
              "      <td>Расстояния от сенсора Пульса до верхушки сердц...</td>\n",
              "      <td>1.04</td>\n",
              "      <td>1.04</td>\n",
              "      <td>1.04</td>\n",
              "      <td>1.04</td>\n",
              "      <td>1.04</td>\n",
              "    </tr>\n",
              "    <tr>\n",
              "      <th>5</th>\n",
              "      <td>Средняя скорость пульсовой волны V м/c. с</td>\n",
              "      <td>14.336918</td>\n",
              "      <td>14.336918</td>\n",
              "      <td>14.336918</td>\n",
              "      <td>14.336918</td>\n",
              "      <td>14.336918</td>\n",
              "    </tr>\n",
              "  </tbody>\n",
              "</table>\n",
              "</div>"
            ],
            "text/plain": [
              "                                         Номер цикла 1_Измерение 2_Измерение  \\\n",
              "0                                   Конец Т зубца, с       2.600       3.393   \n",
              "1                                    Максимум ФПГ, с      2.6747      3.4616   \n",
              "2                                  Запаздывание Т, с      0.0747      0.0686   \n",
              "3               Среднее значение запаздывания Тср, с     0.07254     0.07254   \n",
              "4  Расстояния от сенсора Пульса до верхушки сердц...        1.04        1.04   \n",
              "5          Средняя скорость пульсовой волны V м/c. с   14.336918   14.336918   \n",
              "\n",
              "  3_Измерение 4_Измерение 5_Измерение  \n",
              "0       4.138       4.896       5.657  \n",
              "1      4.2169      4.9623      5.7312  \n",
              "2      0.0789      0.0663      0.0742  \n",
              "3     0.07254     0.07254     0.07254  \n",
              "4        1.04        1.04        1.04  \n",
              "5   14.336918   14.336918   14.336918  "
            ]
          },
          "execution_count": 93,
          "metadata": {},
          "output_type": "execute_result"
        }
      ],
      "source": [
        "students_performance"
      ]
    },
    {
      "cell_type": "code",
      "execution_count": null,
      "id": "89ef3fa6",
      "metadata": {
        "id": "89ef3fa6"
      },
      "outputs": [],
      "source": []
    }
  ],
  "metadata": {
    "kernelspec": {
      "display_name": "Python 3.10.0 64-bit",
      "language": "python",
      "name": "python3"
    },
    "language_info": {
      "codemirror_mode": {
        "name": "ipython",
        "version": 3
      },
      "file_extension": ".py",
      "mimetype": "text/x-python",
      "name": "python",
      "nbconvert_exporter": "python",
      "pygments_lexer": "ipython3",
      "version": "3.10.0"
    },
    "vscode": {
      "interpreter": {
        "hash": "26de051ba29f2982a8de78e945f0abaf191376122a1563185a90213a26c5da77"
      }
    },
    "colab": {
      "provenance": [],
      "include_colab_link": true
    }
  },
  "nbformat": 4,
  "nbformat_minor": 5
}